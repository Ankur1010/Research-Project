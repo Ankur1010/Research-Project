{
 "cells": [
  {
   "cell_type": "code",
   "execution_count": 26,
   "metadata": {
    "id": "Cd0Gw3Q5bi46"
   },
   "outputs": [],
   "source": [
    "import zipfile\n",
    "pascal3category = zipfile.ZipFile('/content/drive/MyDrive/Emotion_rec Data/Balanced Image data.zip', 'r')\n",
    "pascal3category = pascal3category.extractall('/content/')"
   ]
  },
  {
   "cell_type": "markdown",
   "metadata": {
    "id": "2gXbgy5LGqKe"
   },
   "source": [
    "# Image Recognition"
   ]
  },
  {
   "cell_type": "code",
   "execution_count": null,
   "metadata": {
    "colab": {
     "base_uri": "https://localhost:8080/"
    },
    "id": "-IJpfBRaZGEf",
    "outputId": "52e05470-a3ac-40c2-8921-6560efaeb30e"
   },
   "outputs": [
    {
     "name": "stdout",
     "output_type": "stream",
     "text": [
      "Found 2585 images belonging to 7 classes.\n",
      "Found 1349 images belonging to 7 classes.\n",
      "Found 3934 images belonging to 7 classes.\n",
      "Epoch 1/50\n",
      "40/40 [==============================] - 7s 169ms/step - loss: 1.8284 - accuracy: 0.3296 - val_loss: 1.9421 - val_accuracy: 0.2031\n",
      "Epoch 2/50\n",
      "40/40 [==============================] - 7s 164ms/step - loss: 1.7896 - accuracy: 0.3403 - val_loss: 1.9541 - val_accuracy: 0.2024\n",
      "Epoch 3/50\n",
      "40/40 [==============================] - 7s 164ms/step - loss: 1.7231 - accuracy: 0.3630 - val_loss: 2.0486 - val_accuracy: 0.1994\n",
      "Epoch 4/50\n",
      "40/40 [==============================] - 7s 164ms/step - loss: 1.6374 - accuracy: 0.4133 - val_loss: 2.1235 - val_accuracy: 0.1987\n",
      "Epoch 5/50\n",
      "40/40 [==============================] - 7s 164ms/step - loss: 1.5838 - accuracy: 0.4383 - val_loss: 2.1618 - val_accuracy: 0.2277\n",
      "Epoch 6/50\n",
      "40/40 [==============================] - 7s 165ms/step - loss: 1.5116 - accuracy: 0.4661 - val_loss: 2.2638 - val_accuracy: 0.2440\n",
      "Epoch 7/50\n",
      "40/40 [==============================] - 7s 165ms/step - loss: 1.4354 - accuracy: 0.4776 - val_loss: 2.3053 - val_accuracy: 0.2292\n",
      "Epoch 8/50\n",
      "40/40 [==============================] - 7s 168ms/step - loss: 1.3246 - accuracy: 0.5240 - val_loss: 2.4082 - val_accuracy: 0.2530\n",
      "Epoch 9/50\n",
      "40/40 [==============================] - 7s 166ms/step - loss: 1.2689 - accuracy: 0.5446 - val_loss: 2.4324 - val_accuracy: 0.1860\n",
      "Epoch 10/50\n",
      "40/40 [==============================] - 7s 165ms/step - loss: 1.1870 - accuracy: 0.5692 - val_loss: 2.5112 - val_accuracy: 0.2277\n",
      "Epoch 11/50\n",
      "40/40 [==============================] - 7s 164ms/step - loss: 1.1367 - accuracy: 0.5910 - val_loss: 2.5601 - val_accuracy: 0.2091\n",
      "Epoch 12/50\n",
      "40/40 [==============================] - 7s 163ms/step - loss: 1.0893 - accuracy: 0.5990 - val_loss: 2.6637 - val_accuracy: 0.2121\n",
      "Epoch 13/50\n",
      "40/40 [==============================] - 7s 163ms/step - loss: 1.0490 - accuracy: 0.6196 - val_loss: 2.7043 - val_accuracy: 0.2254\n",
      "Epoch 14/50\n",
      "40/40 [==============================] - 7s 165ms/step - loss: 1.0229 - accuracy: 0.6410 - val_loss: 2.6916 - val_accuracy: 0.2098\n",
      "Epoch 15/50\n",
      "40/40 [==============================] - 7s 165ms/step - loss: 0.9768 - accuracy: 0.6454 - val_loss: 2.7393 - val_accuracy: 0.1964\n",
      "Epoch 16/50\n",
      "40/40 [==============================] - 7s 164ms/step - loss: 0.9599 - accuracy: 0.6581 - val_loss: 2.8128 - val_accuracy: 0.2061\n",
      "Epoch 17/50\n",
      "40/40 [==============================] - 7s 166ms/step - loss: 0.9121 - accuracy: 0.6731 - val_loss: 2.8745 - val_accuracy: 0.1830\n",
      "Epoch 18/50\n",
      "40/40 [==============================] - 7s 163ms/step - loss: 0.8839 - accuracy: 0.6874 - val_loss: 2.9394 - val_accuracy: 0.1905\n",
      "Epoch 19/50\n",
      "40/40 [==============================] - 7s 165ms/step - loss: 0.8561 - accuracy: 0.6918 - val_loss: 2.9341 - val_accuracy: 0.1935\n",
      "Epoch 20/50\n",
      "40/40 [==============================] - 7s 163ms/step - loss: 0.8329 - accuracy: 0.7017 - val_loss: 3.0585 - val_accuracy: 0.1734\n",
      "Epoch 21/50\n",
      "40/40 [==============================] - 7s 164ms/step - loss: 0.8050 - accuracy: 0.7100 - val_loss: 2.9885 - val_accuracy: 0.1920\n",
      "Epoch 22/50\n",
      "40/40 [==============================] - 7s 163ms/step - loss: 0.7735 - accuracy: 0.7291 - val_loss: 3.0543 - val_accuracy: 0.1815\n",
      "Epoch 23/50\n",
      "40/40 [==============================] - 7s 164ms/step - loss: 0.7738 - accuracy: 0.7319 - val_loss: 3.1147 - val_accuracy: 0.1935\n",
      "Epoch 24/50\n",
      "40/40 [==============================] - 7s 165ms/step - loss: 0.7389 - accuracy: 0.7406 - val_loss: 3.1761 - val_accuracy: 0.1801\n",
      "Epoch 25/50\n",
      "40/40 [==============================] - 7s 164ms/step - loss: 0.7230 - accuracy: 0.7481 - val_loss: 3.1453 - val_accuracy: 0.1815\n",
      "Epoch 26/50\n",
      "40/40 [==============================] - 7s 163ms/step - loss: 0.6858 - accuracy: 0.7493 - val_loss: 3.3709 - val_accuracy: 0.1793\n",
      "Epoch 27/50\n",
      "40/40 [==============================] - 6s 162ms/step - loss: 0.6881 - accuracy: 0.7560 - val_loss: 3.2356 - val_accuracy: 0.1853\n",
      "Epoch 28/50\n",
      "40/40 [==============================] - 7s 165ms/step - loss: 0.6543 - accuracy: 0.7632 - val_loss: 3.2698 - val_accuracy: 0.1711\n",
      "Epoch 29/50\n",
      "40/40 [==============================] - 7s 164ms/step - loss: 0.6259 - accuracy: 0.7739 - val_loss: 3.2776 - val_accuracy: 0.1667\n",
      "Epoch 30/50\n",
      "40/40 [==============================] - 7s 163ms/step - loss: 0.6159 - accuracy: 0.7783 - val_loss: 3.5095 - val_accuracy: 0.1719\n",
      "Epoch 31/50\n",
      "40/40 [==============================] - 7s 164ms/step - loss: 0.6065 - accuracy: 0.7933 - val_loss: 3.4450 - val_accuracy: 0.1555\n",
      "Epoch 32/50\n",
      "40/40 [==============================] - 6s 162ms/step - loss: 0.6063 - accuracy: 0.7822 - val_loss: 3.2774 - val_accuracy: 0.1711\n",
      "Epoch 33/50\n",
      "40/40 [==============================] - 7s 164ms/step - loss: 0.5720 - accuracy: 0.7933 - val_loss: 3.5296 - val_accuracy: 0.1711\n",
      "Epoch 34/50\n",
      "40/40 [==============================] - 6s 162ms/step - loss: 0.5451 - accuracy: 0.8036 - val_loss: 3.5940 - val_accuracy: 0.1741\n",
      "Epoch 35/50\n",
      "40/40 [==============================] - 6s 162ms/step - loss: 0.5617 - accuracy: 0.7941 - val_loss: 3.3892 - val_accuracy: 0.1734\n",
      "Epoch 36/50\n",
      "40/40 [==============================] - 6s 162ms/step - loss: 0.5439 - accuracy: 0.8060 - val_loss: 3.5157 - val_accuracy: 0.1644\n",
      "Epoch 37/50\n",
      "40/40 [==============================] - 7s 166ms/step - loss: 0.5063 - accuracy: 0.8163 - val_loss: 3.6171 - val_accuracy: 0.1525\n",
      "Epoch 38/50\n",
      "40/40 [==============================] - 7s 164ms/step - loss: 0.5069 - accuracy: 0.8211 - val_loss: 3.4799 - val_accuracy: 0.1667\n",
      "Epoch 39/50\n",
      "40/40 [==============================] - 6s 162ms/step - loss: 0.5094 - accuracy: 0.8247 - val_loss: 3.7098 - val_accuracy: 0.1629\n",
      "Epoch 40/50\n",
      "40/40 [==============================] - 7s 165ms/step - loss: 0.4912 - accuracy: 0.8274 - val_loss: 3.6597 - val_accuracy: 0.1555\n",
      "Epoch 41/50\n",
      "40/40 [==============================] - 6s 162ms/step - loss: 0.4836 - accuracy: 0.8282 - val_loss: 3.6486 - val_accuracy: 0.1585\n",
      "Epoch 42/50\n",
      "40/40 [==============================] - 6s 162ms/step - loss: 0.4665 - accuracy: 0.8378 - val_loss: 3.8947 - val_accuracy: 0.1496\n",
      "Epoch 43/50\n",
      "40/40 [==============================] - 7s 163ms/step - loss: 0.4655 - accuracy: 0.8342 - val_loss: 3.7532 - val_accuracy: 0.1592\n",
      "Epoch 44/50\n",
      "40/40 [==============================] - 6s 161ms/step - loss: 0.4503 - accuracy: 0.8393 - val_loss: 3.9593 - val_accuracy: 0.1451\n",
      "Epoch 45/50\n",
      "40/40 [==============================] - 6s 161ms/step - loss: 0.4247 - accuracy: 0.8501 - val_loss: 3.7478 - val_accuracy: 0.1607\n",
      "Epoch 46/50\n",
      "40/40 [==============================] - 6s 160ms/step - loss: 0.4296 - accuracy: 0.8524 - val_loss: 3.8425 - val_accuracy: 0.1562\n",
      "Epoch 47/50\n",
      "40/40 [==============================] - 6s 161ms/step - loss: 0.4196 - accuracy: 0.8473 - val_loss: 4.0267 - val_accuracy: 0.1518\n",
      "Epoch 48/50\n",
      "40/40 [==============================] - 6s 161ms/step - loss: 0.4261 - accuracy: 0.8493 - val_loss: 3.8041 - val_accuracy: 0.1443\n",
      "Epoch 49/50\n",
      "40/40 [==============================] - 6s 161ms/step - loss: 0.3973 - accuracy: 0.8556 - val_loss: 3.8293 - val_accuracy: 0.1570\n",
      "Epoch 50/50\n",
      "40/40 [==============================] - 6s 161ms/step - loss: 0.3961 - accuracy: 0.8655 - val_loss: 3.9877 - val_accuracy: 0.1763\n"
     ]
    }
   ],
   "source": [
    "import numpy as np\n",
    "import argparse\n",
    "import matplotlib.pyplot as plt\n",
    "import cv2\n",
    "from tensorflow.keras.models import Sequential\n",
    "from tensorflow.keras.layers import Dense, Dropout, Flatten\n",
    "from tensorflow.keras.layers import Conv2D\n",
    "from tensorflow.keras.optimizers import Adam\n",
    "from tensorflow.keras.layers import MaxPooling2D\n",
    "from tensorflow.keras.preprocessing.image import ImageDataGenerator\n",
    "import os\n",
    "# plots accuracy and loss curves\n",
    "def plot_model_history(model_history):\n",
    "    \"\"\"\n",
    "    Plot Accuracy and Loss curves given the model_history\n",
    "    \"\"\"\n",
    "    fig, axs = plt.subplots(1,2,figsize=(15,5))\n",
    "    # summarize history for accuracy\n",
    "    axs[0].plot(range(1,len(model_history.history['accuracy'])+1),model_history.history['accuracy'])\n",
    "    axs[0].plot(range(1,len(model_history.history['val_accuracy'])+1),model_history.history['val_accuracy'])\n",
    "    axs[0].set_title('Model Accuracy')\n",
    "    axs[0].set_ylabel('Accuracy')\n",
    "    axs[0].set_xlabel('Epoch')\n",
    "    axs[0].set_xticks(np.arange(1,len(model_history.history['accuracy'])+1),len(model_history.history['accuracy'])/10)\n",
    "    axs[0].legend(['train', 'val'], loc='best')\n",
    "    # summarize history for loss\n",
    "    axs[1].plot(range(1,len(model_history.history['loss'])+1),model_history.history['loss'])\n",
    "    axs[1].plot(range(1,len(model_history.history['val_loss'])+1),model_history.history['val_loss'])\n",
    "    axs[1].set_title('Model Loss')\n",
    "    axs[1].set_ylabel('Loss')\n",
    "    axs[1].set_xlabel('Epoch')\n",
    "    axs[1].set_xticks(np.arange(1,len(model_history.history['loss'])+1),len(model_history.history['loss'])/10)\n",
    "    axs[1].legend(['train', 'val'], loc='best')\n",
    "    fig.savefig('plot.png')\n",
    "    plt.show()\n",
    "\n",
    "# Define data generators\n",
    "train_dir = '/content/Balanced Image data/Train_Croped_faces'\n",
    "val_dir = '/content/Balanced Image data/Val_Croped_faces'\n",
    "test_dir = '/content/Balanced Image data/Test_Croped_faces'\n",
    "\n",
    "batch_size = 64\n",
    "num_epoch = 50\n",
    "\n",
    "train_datagen = ImageDataGenerator(rescale=1./255)\n",
    "val_datagen = ImageDataGenerator(rescale=1./255)\n",
    "test_datagen = ImageDataGenerator(rescale=1./255)\n",
    "\n",
    "train_generator = train_datagen.flow_from_directory(\n",
    "        train_dir,\n",
    "        target_size=(48,48),\n",
    "        batch_size=batch_size,\n",
    "        color_mode=\"grayscale\",\n",
    "        class_mode='categorical')\n",
    "\n",
    "validation_generator = val_datagen.flow_from_directory(\n",
    "        val_dir,\n",
    "        target_size=(48,48),\n",
    "        batch_size=batch_size,\n",
    "        color_mode=\"grayscale\",\n",
    "        class_mode='categorical')\n",
    "\n",
    "test_generator = val_datagen.flow_from_directory(\n",
    "        test_dir,\n",
    "        target_size=(48,48),\n",
    "        batch_size=batch_size,\n",
    "        color_mode=\"grayscale\",\n",
    "        class_mode='categorical')\n",
    "\n",
    "# Create the model\n",
    "model = Sequential()\n",
    "\n",
    "model.add(Conv2D(32, kernel_size=(3, 3), activation='relu', input_shape=(48,48,1)))\n",
    "model.add(Conv2D(64, kernel_size=(3, 3), activation='relu'))\n",
    "model.add(MaxPooling2D(pool_size=(2, 2)))\n",
    "model.add(Dropout(0.25))\n",
    "\n",
    "model.add(Conv2D(128, kernel_size=(3, 3), activation='relu'))\n",
    "model.add(MaxPooling2D(pool_size=(2, 2)))\n",
    "model.add(Conv2D(128, kernel_size=(3, 3), activation='relu'))\n",
    "model.add(MaxPooling2D(pool_size=(2, 2)))\n",
    "model.add(Dropout(0.25))\n",
    "\n",
    "model.add(Flatten())\n",
    "model.add(Dense(1024, activation='relu'))\n",
    "model.add(Dropout(0.5))\n",
    "model.add(Dense(7, activation='softmax'))\n",
    "\n",
    "# If you want to train the same model or try other models, go for this\n",
    "\n",
    "model.compile(loss='categorical_crossentropy',optimizer=Adam(lr=0.0001, decay=1e-6),metrics=['accuracy'])\n",
    "step_size_train=train_generator.n//train_generator.batch_size\n",
    "val_size=validation_generator.n//validation_generator.batch_size\n",
    "model_info = model.fit_generator(\n",
    "        train_generator,\n",
    "        steps_per_epoch=step_size_train,\n",
    "        epochs=num_epoch,\n",
    "        validation_data=validation_generator,\n",
    "        validation_steps=val_size)\n",
    "\n",
    "model.save_weights('image_model.h5')"
   ]
  },
  {
   "cell_type": "code",
   "execution_count": null,
   "metadata": {
    "colab": {
     "base_uri": "https://localhost:8080/"
    },
    "id": "SVnHnaGdVuqb",
    "outputId": "9f6db960-e1d1-4d5f-f052-6b193c8b09d7"
   },
   "outputs": [
    {
     "name": "stdout",
     "output_type": "stream",
     "text": [
      "Testing Results => Acc:  66.0 Loss:  1.54\n",
      "Classification Report\n",
      "              precision    recall  f1-score   support\n",
      "\n",
      "       Anger       0.13      0.12      0.12       388\n",
      "     Disgust       0.31      0.32      0.31      1150\n",
      "        Fear       0.16      0.10      0.12       646\n",
      "       Happy       0.09      0.11      0.10       334\n",
      "     Neutral       0.12      0.21      0.15       421\n",
      "         Sad       0.13      0.12      0.13       509\n",
      "    Surprise       0.13      0.08      0.10       486\n",
      "\n",
      "    accuracy                           0.18      3934\n",
      "   macro avg       0.15      0.15      0.15      3934\n",
      "weighted avg       0.18      0.18      0.18      3934\n",
      "\n"
     ]
    }
   ],
   "source": [
    "from sklearn.metrics import confusion_matrix \n",
    "from sklearn.metrics import accuracy_score \n",
    "from sklearn.metrics import classification_report \n",
    "\n",
    "step_size_test=test_generator.n//test_generator.batch_size\n",
    "loss,acc = model.evaluate_generator(test_generator,step_size_test,verbose=0)\n",
    "print(\"Testing Results => Acc: \",round(acc,2)*100,\"Loss: \",round(loss,2))\n",
    "\n",
    "Y_pred = model.predict_generator(test_generator, test_generator.n//test_generator.batch_size+1)\n",
    "y_pred = np.argmax(Y_pred, axis=1)\n",
    "\n",
    "print('Classification Report')\n",
    "target_names = [\"Anger\",\"Disgust\",\"Fear\",\"Happy\",\"Neutral\",\"Sad\",\"Surprise\"]\n",
    "print(classification_report(test_generator.classes, y_pred, target_names=target_names))"
   ]
  },
  {
   "cell_type": "code",
   "execution_count": null,
   "metadata": {
    "colab": {
     "base_uri": "https://localhost:8080/",
     "height": 462
    },
    "id": "Is6PqnmIx5qG",
    "outputId": "84084bf7-fb4b-4058-d835-b554e57a94d3"
   },
   "outputs": [
    {
     "name": "stdout",
     "output_type": "stream",
     "text": [
      "Confusion Matrix\n"
     ]
    },
    {
     "data": {
      "text/plain": [
       "<matplotlib.axes._subplots.AxesSubplot at 0x7f7330ad82b0>"
      ]
     },
     "execution_count": 8,
     "metadata": {
      "tags": []
     },
     "output_type": "execute_result"
    },
    {
     "data": {
      "image/png": "[encoded data removed]",
      "text/plain": [
       "<Figure size 720x504 with 2 Axes>"
      ]
     },
     "metadata": {
      "needs_background": "light",
      "tags": []
     },
     "output_type": "display_data"
    }
   ],
   "source": [
    "import seaborn as sn\n",
    "import matplotlib.pyplot as plt\n",
    "import pandas as pd\n",
    "%matplotlib inline\n",
    "\n",
    "print('Confusion Matrix')\n",
    "cm = confusion_matrix(test_generator.classes, y_pred)\n",
    "df_cm = pd.DataFrame(cm, index = ['Anger','Disgust','Fear','Happy','Neutral','Sad','Surprise'],\n",
    "                  columns = ['Anger','Disgust','Fear','Happy','Neutral','Sad','Surprise'])\n",
    "plt.figure(figsize = (10,7))\n",
    "sn.heatmap(df_cm, annot=True)"
   ]
  },
  {
   "cell_type": "markdown",
   "metadata": {
    "id": "p3s0vlPkGabw"
   },
   "source": [
    "# Audio Recognition"
   ]
  },
  {
   "cell_type": "code",
   "execution_count": 10,
   "metadata": {
    "id": "WyU-Z82wPVFD"
   },
   "outputs": [],
   "source": [
    "import seaborn as sn\n",
    "import matplotlib.pyplot as plt\n",
    "import pandas as pd\n",
    "%matplotlib inline\n",
    "import os\n",
    "emotions = ['Anger', 'Disgust', 'Fear', 'Happy','Neutral','Sad','Surprise']\n",
    "path = '/content/drive/MyDrive/Emotion_rec Data/Audio/'\n",
    "training_file_names = []\n",
    "training_emotion_labels = []\n",
    "for i in range(0, len(emotions)):\n",
    "    sub_path = path + 'Train_Aud/' + emotions[i] + '/'\n",
    "    sub_file_names = [os.path.join(sub_path, f) for f in os.listdir(sub_path)]\n",
    "    sub_emotion_labels = [i] * len(sub_file_names)\n",
    "    training_file_names += sub_file_names\n",
    "    training_emotion_labels += sub_emotion_labels"
   ]
  },
  {
   "cell_type": "code",
   "execution_count": 2,
   "metadata": {
    "id": "LNoX1yw2PVe3"
   },
   "outputs": [],
   "source": [
    "import os\n",
    "emotions = ['Anger', 'Disgust', 'Fear', 'Happy','Neutral','Sad','Surprise']\n",
    "path = '/content/drive/MyDrive/Emotion_rec Data/Audio/'\n",
    "testing_file_names = []\n",
    "testing_emotion_labels = []\n",
    "for i in range(0, len(emotions)):\n",
    "    sub_path = path + 'Test_Aud/' + emotions[i] + '/'\n",
    "    sub_file_names = [os.path.join(sub_path, f) for f in os.listdir(sub_path)]\n",
    "    sub_emotion_labels = [i] * len(sub_file_names)\n",
    "    testing_file_names += sub_file_names\n",
    "    testing_emotion_labels += sub_emotion_labels"
   ]
  },
  {
   "cell_type": "code",
   "execution_count": 3,
   "metadata": {
    "id": "HuUW05rcPVhj"
   },
   "outputs": [],
   "source": [
    "import time\n",
    "import librosa\n",
    "import os\n",
    "import numpy as np\n",
    "def mfcc(data,new_audio):\n",
    "  if data != None:\n",
    "    if data=='Train':\n",
    "      path = '/content/drive/MyDrive/Emotion_rec Data/Audio/Train_Aud'\n",
    "    else:\n",
    "      path = '/content/drive/MyDrive/Emotion_rec Data/Audio/Test_Aud'\n",
    "    Classes = [\"Anger\",\"Disgust\",\"Fear\",\"Happy\",\"Neutral\",\"Sad\",\"Surprise\"]\n",
    "    lst = []\n",
    "    for emotion in Classes:\n",
    "      path1 = os.path.join(path, emotion)\n",
    "      emotion_num = Classes.index(emotion)\n",
    "      for aud in os.listdir(path1):\n",
    "        try:\n",
    "          os.chdir(path1)\n",
    "          #Load librosa array, obtain mfcss, store the file and the mcss information in a new array\n",
    "          X, sample_rate = librosa.load(aud, res_type='kaiser_fast')\n",
    "          mfccs = np.mean(librosa.feature.mfcc(y=X, sr=sample_rate, n_mfcc=13).T,axis=0)\n",
    "          #melspec = np.mean(librosa.feature.melspectrogram(X, sr=sample_rate).T,axis=0)\n",
    "          #print(mfccs,emotion_num)\n",
    "          arr = mfccs\n",
    "          lst.append(arr)\n",
    "        # If the file is not valid, skip it\n",
    "        except ValueError:\n",
    "          continue\n",
    "    return lst\n",
    "  else:\n",
    "    lst = []\n",
    "    X, sample_rate = librosa.load(new_audio, res_type='kaiser_fast')\n",
    "    mfccs = np.mean(librosa.feature.mfcc(y=X, sr=sample_rate, n_mfcc=13).T,axis=0)\n",
    "    #melspec = np.mean(librosa.feature.melspectrogram(X, sr=sample_rate).T,axis=0)\n",
    "    arr = mfccs\n",
    "    lst.append(arr)\n",
    "    return lst\n"
   ]
  },
  {
   "cell_type": "code",
   "execution_count": 4,
   "metadata": {
    "id": "yIeTWOJMYObW"
   },
   "outputs": [],
   "source": [
    "lst = mfcc(data='Train',new_audio=None)\n",
    "lst_1 = mfcc(data='Test',new_audio=None)"
   ]
  },
  {
   "cell_type": "code",
   "execution_count": 5,
   "metadata": {
    "colab": {
     "base_uri": "https://localhost:8080/"
    },
    "id": "c3zpImtfPhMf",
    "outputId": "55018dcf-0817-4328-fe44-aa4b24805329"
   },
   "outputs": [
    {
     "name": "stderr",
     "output_type": "stream",
     "text": [
      "/usr/local/lib/python3.6/dist-packages/sklearn/externals/six.py:31: FutureWarning: The module is deprecated in version 0.21 and will be removed in version 0.23 since we've dropped support for Python 2.7. Please rely on the official version of six (https://pypi.org/project/six/).\n",
      "  \"(https://pypi.org/project/six/).\", FutureWarning)\n",
      "/usr/local/lib/python3.6/dist-packages/sklearn/utils/deprecation.py:144: FutureWarning: The sklearn.neighbors.base module is  deprecated in version 0.22 and will be removed in version 0.24. The corresponding classes / functions should instead be imported from sklearn.neighbors. Anything that cannot be imported from sklearn.neighbors is now part of the private API.\n",
      "  warnings.warn(message, FutureWarning)\n",
      "/usr/local/lib/python3.6/dist-packages/imblearn/utils/_validation.py:257: UserWarning: After over-sampling, the number of samples (5000) in class 0 will be larger than the number of samples in the majority class (class #4 -> 371)\n",
      "  n_samples_majority))\n",
      "/usr/local/lib/python3.6/dist-packages/imblearn/utils/_validation.py:257: UserWarning: After over-sampling, the number of samples (50000) in class 1 will be larger than the number of samples in the majority class (class #4 -> 371)\n",
      "  n_samples_majority))\n",
      "/usr/local/lib/python3.6/dist-packages/imblearn/utils/_validation.py:257: UserWarning: After over-sampling, the number of samples (50000) in class 2 will be larger than the number of samples in the majority class (class #4 -> 371)\n",
      "  n_samples_majority))\n",
      "/usr/local/lib/python3.6/dist-packages/imblearn/utils/_validation.py:257: UserWarning: After over-sampling, the number of samples (50000) in class 3 will be larger than the number of samples in the majority class (class #4 -> 371)\n",
      "  n_samples_majority))\n",
      "/usr/local/lib/python3.6/dist-packages/imblearn/utils/_validation.py:257: UserWarning: After over-sampling, the number of samples (50000) in class 4 will be larger than the number of samples in the majority class (class #4 -> 371)\n",
      "  n_samples_majority))\n",
      "/usr/local/lib/python3.6/dist-packages/imblearn/utils/_validation.py:257: UserWarning: After over-sampling, the number of samples (50000) in class 5 will be larger than the number of samples in the majority class (class #4 -> 371)\n",
      "  n_samples_majority))\n",
      "/usr/local/lib/python3.6/dist-packages/imblearn/utils/_validation.py:257: UserWarning: After over-sampling, the number of samples (50000) in class 6 will be larger than the number of samples in the majority class (class #4 -> 371)\n",
      "  n_samples_majority))\n",
      "/usr/local/lib/python3.6/dist-packages/sklearn/utils/deprecation.py:87: FutureWarning: Function safe_indexing is deprecated; safe_indexing is deprecated in version 0.22 and will be removed in version 0.24.\n",
      "  warnings.warn(msg, category=FutureWarning)\n",
      "/usr/local/lib/python3.6/dist-packages/sklearn/utils/deprecation.py:87: FutureWarning: Function safe_indexing is deprecated; safe_indexing is deprecated in version 0.22 and will be removed in version 0.24.\n",
      "  warnings.warn(msg, category=FutureWarning)\n",
      "/usr/local/lib/python3.6/dist-packages/sklearn/utils/deprecation.py:87: FutureWarning: Function safe_indexing is deprecated; safe_indexing is deprecated in version 0.22 and will be removed in version 0.24.\n",
      "  warnings.warn(msg, category=FutureWarning)\n",
      "/usr/local/lib/python3.6/dist-packages/sklearn/utils/deprecation.py:87: FutureWarning: Function safe_indexing is deprecated; safe_indexing is deprecated in version 0.22 and will be removed in version 0.24.\n",
      "  warnings.warn(msg, category=FutureWarning)\n",
      "/usr/local/lib/python3.6/dist-packages/sklearn/utils/deprecation.py:87: FutureWarning: Function safe_indexing is deprecated; safe_indexing is deprecated in version 0.22 and will be removed in version 0.24.\n",
      "  warnings.warn(msg, category=FutureWarning)\n",
      "/usr/local/lib/python3.6/dist-packages/sklearn/utils/deprecation.py:87: FutureWarning: Function safe_indexing is deprecated; safe_indexing is deprecated in version 0.22 and will be removed in version 0.24.\n",
      "  warnings.warn(msg, category=FutureWarning)\n",
      "/usr/local/lib/python3.6/dist-packages/sklearn/utils/deprecation.py:87: FutureWarning: Function safe_indexing is deprecated; safe_indexing is deprecated in version 0.22 and will be removed in version 0.24.\n",
      "  warnings.warn(msg, category=FutureWarning)\n"
     ]
    },
    {
     "name": "stdout",
     "output_type": "stream",
     "text": [
      "Class=0, n=5000 (1.639%)\n",
      "Class=1, n=50000 (16.393%)\n",
      "Class=2, n=50000 (16.393%)\n",
      "Class=3, n=50000 (16.393%)\n",
      "Class=4, n=50000 (16.393%)\n",
      "Class=5, n=50000 (16.393%)\n",
      "Class=6, n=50000 (16.393%)\n"
     ]
    }
   ],
   "source": [
    "from imblearn.over_sampling import SMOTE\n",
    "from collections import Counter\n",
    "strategy = {0:5000,1:50000,2:50000,3:50000,4:50000,5:50000,6:50000}\n",
    "oversample = SMOTE(sampling_strategy=strategy)\n",
    "X_train, y_train = oversample.fit_resample(lst, training_emotion_labels)\n",
    "\n",
    "counter = Counter(y_train)\n",
    "for k,v in counter.items():\n",
    "\tper = v / len(y_train) * 100\n",
    "\tprint('Class=%d, n=%d (%.3f%%)' % (k, v, per))"
   ]
  },
  {
   "cell_type": "code",
   "execution_count": 6,
   "metadata": {
    "colab": {
     "base_uri": "https://localhost:8080/"
    },
    "id": "zK59YzpZPhPI",
    "outputId": "e5c3f62c-644a-4a47-ddc1-e14f814242d3"
   },
   "outputs": [
    {
     "name": "stdout",
     "output_type": "stream",
     "text": [
      "Class=0, n=74 (1.361%)\n",
      "Class=1, n=39 (0.717%)\n",
      "Class=2, n=18 (0.331%)\n",
      "Class=3, n=205 (3.769%)\n",
      "Class=4, n=5000 (91.929%)\n",
      "Class=5, n=100 (1.839%)\n",
      "Class=6, n=3 (0.055%)\n"
     ]
    },
    {
     "name": "stderr",
     "output_type": "stream",
     "text": [
      "/usr/local/lib/python3.6/dist-packages/imblearn/utils/_validation.py:257: UserWarning: After over-sampling, the number of samples (5000) in class 4 will be larger than the number of samples in the majority class (class #4 -> 234)\n",
      "  n_samples_majority))\n",
      "/usr/local/lib/python3.6/dist-packages/sklearn/utils/deprecation.py:87: FutureWarning: Function safe_indexing is deprecated; safe_indexing is deprecated in version 0.22 and will be removed in version 0.24.\n",
      "  warnings.warn(msg, category=FutureWarning)\n"
     ]
    }
   ],
   "source": [
    "from imblearn.over_sampling import SMOTE\n",
    "from collections import Counter\n",
    "strategy = {4:5000}\n",
    "oversample = SMOTE(sampling_strategy=strategy)\n",
    "X_test_rf, y_test_rf = oversample.fit_resample(lst_1, testing_emotion_labels)\n",
    "\n",
    "counter = Counter(y_test_rf)\n",
    "for k,v in counter.items():\n",
    "\tper = v / len(y_test_rf) * 100\n",
    "\tprint('Class=%d, n=%d (%.3f%%)' % (k, v, per))"
   ]
  },
  {
   "cell_type": "code",
   "execution_count": 7,
   "metadata": {
    "colab": {
     "base_uri": "https://localhost:8080/",
     "height": 248
    },
    "id": "ZOaDjsMjPVlk",
    "outputId": "637a4116-2af9-4672-81bb-662e9442c31e"
   },
   "outputs": [
    {
     "name": "stdout",
     "output_type": "stream",
     "text": [
      "0.6122448979591837\n",
      "Confusion Matrix\n"
     ]
    },
    {
     "ename": "NameError",
     "evalue": "ignored",
     "output_type": "error",
     "traceback": [
      "\u001b[0;31m---------------------------------------------------------------------------\u001b[0m",
      "\u001b[0;31mNameError\u001b[0m                                 Traceback (most recent call last)",
      "\u001b[0;32m<ipython-input-7-222a4d88c5a8>\u001b[0m in \u001b[0;36m<module>\u001b[0;34m()\u001b[0m\n\u001b[1;32m     20\u001b[0m df_cm = pd.DataFrame(cf, index = ['Anger','Disgust','Fear','Happy','Neutral','Sad','Surprise'],\n\u001b[1;32m     21\u001b[0m                   columns = ['Anger','Disgust','Fear','Happy','Neutral','Sad','Surprise'])\n\u001b[0;32m---> 22\u001b[0;31m \u001b[0mplt\u001b[0m\u001b[0;34m.\u001b[0m\u001b[0mfigure\u001b[0m\u001b[0;34m(\u001b[0m\u001b[0mfigsize\u001b[0m \u001b[0;34m=\u001b[0m \u001b[0;34m(\u001b[0m\u001b[0;36m10\u001b[0m\u001b[0;34m,\u001b[0m\u001b[0;36m7\u001b[0m\u001b[0;34m)\u001b[0m\u001b[0;34m)\u001b[0m\u001b[0;34m\u001b[0m\u001b[0;34m\u001b[0m\u001b[0m\n\u001b[0m\u001b[1;32m     23\u001b[0m \u001b[0msn\u001b[0m\u001b[0;34m.\u001b[0m\u001b[0mheatmap\u001b[0m\u001b[0;34m(\u001b[0m\u001b[0mdf_cm\u001b[0m\u001b[0;34m,\u001b[0m \u001b[0mannot\u001b[0m\u001b[0;34m=\u001b[0m\u001b[0;32mTrue\u001b[0m\u001b[0;34m)\u001b[0m\u001b[0;34m\u001b[0m\u001b[0;34m\u001b[0m\u001b[0m\n",
      "\u001b[0;31mNameError\u001b[0m: name 'plt' is not defined"
     ]
    }
   ],
   "source": [
    "from sklearn.ensemble import RandomForestClassifier\n",
    "from sklearn.metrics import accuracy_score,classification_report\n",
    "import pandas as pd\n",
    "from sklearn.metrics import confusion_matrix\n",
    "clf = RandomForestClassifier(n_estimators=1000)\n",
    "\n",
    "clf.fit(X_train, y_train)"
   ]
  },
  {
   "cell_type": "code",
   "execution_count": 12,
   "metadata": {
    "colab": {
     "base_uri": "https://localhost:8080/",
     "height": 717
    },
    "id": "Q5VY-ThSePwa",
    "outputId": "6d36aafb-5265-4b42-e507-ad2216861453"
   },
   "outputs": [
    {
     "name": "stdout",
     "output_type": "stream",
     "text": [
      "0.6122448979591837\n",
      "Confusion Matrix\n",
      "Classification Report\n",
      "              precision    recall  f1-score   support\n",
      "\n",
      "       Anger       0.04      0.23      0.06        74\n",
      "     Disgust       0.00      0.03      0.01        39\n",
      "        Fear       0.00      0.00      0.00        18\n",
      "       Happy       0.07      0.36      0.12       205\n",
      "     Neutral       0.94      0.65      0.77      5000\n",
      "         Sad       0.03      0.09      0.05       100\n",
      "    Surprise       0.00      0.00      0.00         3\n",
      "\n",
      "    accuracy                           0.61      5439\n",
      "   macro avg       0.16      0.19      0.14      5439\n",
      "weighted avg       0.87      0.61      0.71      5439\n",
      "\n"
     ]
    },
    {
     "data": {
      "image/png": "[encoded data removed]",
      "text/plain": [
       "<Figure size 720x504 with 2 Axes>"
      ]
     },
     "metadata": {
      "needs_background": "light",
      "tags": []
     },
     "output_type": "display_data"
    }
   ],
   "source": [
    "from sklearn.metrics import accuracy_score,classification_report\n",
    "\n",
    "y_pred_rf = clf.predict(X_test_rf)\n",
    "\n",
    "\n",
    "cf = confusion_matrix(y_test_rf,y_pred_rf)\n",
    "\n",
    "accuracy=accuracy_score(y_test_rf,y_pred_rf)\n",
    "\n",
    "print(accuracy)\n",
    "\n",
    "print('Confusion Matrix')\n",
    "\n",
    "df_cm = pd.DataFrame(cf, index = ['Anger','Disgust','Fear','Happy','Neutral','Sad','Surprise'],\n",
    "                  columns = ['Anger','Disgust','Fear','Happy','Neutral','Sad','Surprise'])\n",
    "plt.figure(figsize = (10,7))\n",
    "sn.heatmap(df_cm, annot=True)\n",
    "\n",
    "print('Classification Report')\n",
    "target_names = [\"Anger\",\"Disgust\",\"Fear\",\"Happy\",\"Neutral\",\"Sad\",\"Surprise\"]\n",
    "print(classification_report(y_test_rf, y_pred_rf, target_names=target_names))"
   ]
  },
  {
   "cell_type": "code",
   "execution_count": 32,
   "metadata": {
    "id": "yXPKyI91PVnr"
   },
   "outputs": [],
   "source": [
    "import pickle\n",
    "filename = '/content/drive/MyDrive/Emotion_rec Data/rf_audio.sav'\n",
    "pickle.dump(clf, open(filename, 'wb'))"
   ]
  },
  {
   "cell_type": "markdown",
   "metadata": {
    "id": "szRaGjbLP3Tx"
   },
   "source": [
    "# Text Recognition"
   ]
  },
  {
   "cell_type": "code",
   "execution_count": 14,
   "metadata": {
    "id": "1PzUpVA3Py26"
   },
   "outputs": [],
   "source": [
    "import pandas as pd\n",
    "df_train = pd.read_csv('/content/drive/MyDrive/Emotion_rec Data/csv/train.csv')\n",
    "df_test = pd.read_csv('/content/drive/MyDrive/Emotion_rec Data/csv/test.csv')"
   ]
  },
  {
   "cell_type": "code",
   "execution_count": 15,
   "metadata": {
    "id": "g7vgIfrVPy5d"
   },
   "outputs": [],
   "source": [
    "dict1={'Anger':0,'Disgust':1,'Fear':2,'Happy':3,'Neutral':4,'Sad':5,'Surprise':6}\n",
    "df_train['class']=df_train['EmotionMaxVote'].replace(dict1)\n",
    "df_test['class']=df_test['EmotionMaxVote'].replace(dict1)"
   ]
  },
  {
   "cell_type": "code",
   "execution_count": 16,
   "metadata": {
    "id": "lonHzjGePzFb"
   },
   "outputs": [],
   "source": [
    "from sklearn.feature_extraction.text import CountVectorizer\n",
    "cv = CountVectorizer(max_features = 200)\n",
    "X_train_1 = cv.fit_transform(df_train['Lemma_words']).toarray()\n",
    "X_test_1 = cv.transform(df_test['Lemma_words']).toarray()"
   ]
  },
  {
   "cell_type": "code",
   "execution_count": 17,
   "metadata": {
    "colab": {
     "base_uri": "https://localhost:8080/"
    },
    "id": "L7Q7TI-HQLyT",
    "outputId": "56f085de-ed6e-45f3-8b78-2335f3c7efdf"
   },
   "outputs": [
    {
     "name": "stderr",
     "output_type": "stream",
     "text": [
      "/usr/local/lib/python3.6/dist-packages/imblearn/utils/_validation.py:257: UserWarning: After over-sampling, the number of samples (1500) in class 4 will be larger than the number of samples in the majority class (class #4 -> 897)\n",
      "  n_samples_majority))\n",
      "/usr/local/lib/python3.6/dist-packages/sklearn/utils/deprecation.py:87: FutureWarning: Function safe_indexing is deprecated; safe_indexing is deprecated in version 0.22 and will be removed in version 0.24.\n",
      "  warnings.warn(msg, category=FutureWarning)\n"
     ]
    },
    {
     "name": "stdout",
     "output_type": "stream",
     "text": [
      "Class=4, n=1500 (48.340%)\n",
      "Class=3, n=725 (23.364%)\n",
      "Class=0, n=318 (10.248%)\n",
      "Class=5, n=347 (11.183%)\n",
      "Class=1, n=119 (3.835%)\n",
      "Class=2, n=67 (2.159%)\n",
      "Class=6, n=27 (0.870%)\n"
     ]
    }
   ],
   "source": [
    "from imblearn.over_sampling import SMOTE\n",
    "from collections import Counter\n",
    "strategy = {4 :1500}\n",
    "oversample = SMOTE(sampling_strategy=strategy)\n",
    "X_train, y_train = oversample.fit_resample(X_train_1, df_train['class'].tolist())\n",
    "\n",
    "counter = Counter(y_train)\n",
    "for k,v in counter.items():\n",
    "\tper = v / len(y_train) * 100\n",
    "\tprint('Class=%d, n=%d (%.3f%%)' % (k, v, per))"
   ]
  },
  {
   "cell_type": "code",
   "execution_count": 18,
   "metadata": {
    "colab": {
     "base_uri": "https://localhost:8080/"
    },
    "id": "fwh2Kr-qQL8-",
    "outputId": "d3e5eedc-dbd4-41be-8638-359ff3d874a3"
   },
   "outputs": [
    {
     "name": "stdout",
     "output_type": "stream",
     "text": [
      "Class=4, n=3000 (74.590%)\n",
      "Class=3, n=446 (11.089%)\n",
      "Class=1, n=114 (2.834%)\n",
      "Class=0, n=234 (5.818%)\n",
      "Class=5, n=176 (4.376%)\n",
      "Class=6, n=12 (0.298%)\n",
      "Class=2, n=40 (0.995%)\n"
     ]
    },
    {
     "name": "stderr",
     "output_type": "stream",
     "text": [
      "/usr/local/lib/python3.6/dist-packages/imblearn/utils/_validation.py:257: UserWarning: After over-sampling, the number of samples (3000) in class 4 will be larger than the number of samples in the majority class (class #4 -> 478)\n",
      "  n_samples_majority))\n",
      "/usr/local/lib/python3.6/dist-packages/sklearn/utils/deprecation.py:87: FutureWarning: Function safe_indexing is deprecated; safe_indexing is deprecated in version 0.22 and will be removed in version 0.24.\n",
      "  warnings.warn(msg, category=FutureWarning)\n"
     ]
    }
   ],
   "source": [
    "from imblearn.over_sampling import SMOTE\n",
    "from collections import Counter\n",
    "strategy = {4:3000}\n",
    "oversample = SMOTE(sampling_strategy=strategy)\n",
    "X_test_mb, y_test_mb = oversample.fit_resample(X_test_1, df_test['class'].tolist())\n",
    "\n",
    "counter = Counter(y_test_mb)\n",
    "for k,v in counter.items():\n",
    "\tper = v / len(y_test_mb) * 100\n",
    "\tprint('Class=%d, n=%d (%.3f%%)' % (k, v, per))"
   ]
  },
  {
   "cell_type": "code",
   "execution_count": 19,
   "metadata": {
    "colab": {
     "base_uri": "https://localhost:8080/",
     "height": 717
    },
    "id": "zQUZIShOPzIJ",
    "outputId": "d9352e72-b03e-406a-80a5-9adca14b0b08"
   },
   "outputs": [
    {
     "name": "stdout",
     "output_type": "stream",
     "text": [
      "0.7237692690203879\n",
      "Confusion Matrix\n",
      "Classification Report\n",
      "              precision    recall  f1-score   support\n",
      "\n",
      "       Anger       0.16      0.04      0.06       234\n",
      "     Disgust       0.20      0.01      0.02       114\n",
      "        Fear       0.00      0.00      0.00        40\n",
      "       Happy       0.33      0.22      0.27       446\n",
      "     Neutral       0.79      0.93      0.85      3000\n",
      "         Sad       0.12      0.07      0.09       176\n",
      "    Surprise       0.00      0.00      0.00        12\n",
      "\n",
      "    accuracy                           0.72      4022\n",
      "   macro avg       0.23      0.18      0.18      4022\n",
      "weighted avg       0.64      0.72      0.67      4022\n",
      "\n"
     ]
    },
    {
     "data": {
      "image/png": "[encoded data removed]",
      "text/plain": [
       "<Figure size 720x504 with 2 Axes>"
      ]
     },
     "metadata": {
      "needs_background": "light",
      "tags": []
     },
     "output_type": "display_data"
    }
   ],
   "source": [
    "from sklearn.naive_bayes import MultinomialNB\n",
    "mb = MultinomialNB().fit(X_train, y_train)\n",
    "\n",
    "y_pred_mb=mb.predict(X_test_mb)\n",
    "\n",
    "print(accuracy_score(y_test_mb,y_pred_mb))\n",
    "\n",
    "print('Confusion Matrix')\n",
    "\n",
    "cf = confusion_matrix(y_test_mb,y_pred_mb)\n",
    "\n",
    "df_cm = pd.DataFrame(cf, index = ['Anger','Disgust','Fear','Happy','Neutral','Sad','Surprise'],\n",
    "                  columns = ['Anger','Disgust','Fear','Happy','Neutral','Sad','Surprise'])\n",
    "plt.figure(figsize = (10,7))\n",
    "sn.heatmap(df_cm, annot=True)\n",
    "\n",
    "print('Classification Report')\n",
    "target_names = [\"Anger\",\"Disgust\",\"Fear\",\"Happy\",\"Neutral\",\"Sad\",\"Surprise\"]\n",
    "print(classification_report(y_test_mb, y_pred_mb, target_names=target_names))"
   ]
  },
  {
   "cell_type": "code",
   "execution_count": 31,
   "metadata": {
    "id": "gC3jLA_IQVL1"
   },
   "outputs": [],
   "source": [
    "filename = '/content/drive/MyDrive/Emotion_rec Data/mul_text.sav'\n",
    "pickle.dump(clf, open(filename, 'wb'))"
   ]
  },
  {
   "cell_type": "markdown",
   "metadata": {
    "id": "9DDoHJes2qRq"
   },
   "source": [
    "# Load Weights for Image Recognition Model"
   ]
  },
  {
   "cell_type": "code",
   "execution_count": 27,
   "metadata": {
    "colab": {
     "base_uri": "https://localhost:8080/"
    },
    "id": "O31w6ABq20F2",
    "outputId": "8765a838-fb47-4a8d-b155-fc97073b322f"
   },
   "outputs": [
    {
     "name": "stdout",
     "output_type": "stream",
     "text": [
      "Found 3934 images belonging to 7 classes.\n",
      "WARNING:tensorflow:From <ipython-input-27-dc664ebfa3fd>:46: Model.predict_generator (from tensorflow.python.keras.engine.training) is deprecated and will be removed in a future version.\n",
      "Instructions for updating:\n",
      "Please use Model.predict, which supports generators.\n"
     ]
    }
   ],
   "source": [
    "from tensorflow.keras.models import Sequential\n",
    "from tensorflow.keras.layers import Dense, Dropout, Flatten\n",
    "from tensorflow.keras.layers import Conv2D\n",
    "from tensorflow.keras.optimizers import Adam\n",
    "from tensorflow.keras.layers import MaxPooling2D\n",
    "from tensorflow.keras.preprocessing.image import ImageDataGenerator\n",
    "import numpy as np\n",
    "\n",
    "\n",
    "model = Sequential()\n",
    "\n",
    "model.add(Conv2D(32, kernel_size=(3, 3), activation='relu', input_shape=(48,48,1)))\n",
    "model.add(Conv2D(64, kernel_size=(3, 3), activation='relu'))\n",
    "model.add(MaxPooling2D(pool_size=(2, 2)))\n",
    "model.add(Dropout(0.25))\n",
    "\n",
    "model.add(Conv2D(128, kernel_size=(3, 3), activation='relu'))\n",
    "model.add(MaxPooling2D(pool_size=(2, 2)))\n",
    "model.add(Conv2D(128, kernel_size=(3, 3), activation='relu'))\n",
    "model.add(MaxPooling2D(pool_size=(2, 2)))\n",
    "model.add(Dropout(0.25))\n",
    "\n",
    "model.add(Flatten())\n",
    "model.add(Dense(1024, activation='relu'))\n",
    "model.add(Dropout(0.5))\n",
    "model.add(Dense(7, activation='softmax'))\n",
    "\n",
    "# If you want to train the same model or try other models, go for this\n",
    "\n",
    "model.compile(loss='categorical_crossentropy',optimizer=Adam(lr=0.0001, decay=1e-6),metrics=['accuracy'])\n",
    "\n",
    "model.load_weights('/content/drive/MyDrive/Emotion_rec Data/image_model.h5')\n",
    "\n",
    "batch_size = 64\n",
    "test_dir = '/content/Balanced Image data/Test_Croped_faces'\n",
    "\n",
    "test_datagen = ImageDataGenerator(rescale=1./255)\n",
    "\n",
    "test_generator = test_datagen.flow_from_directory(\n",
    "        test_dir,\n",
    "        target_size=(48,48),\n",
    "        batch_size=batch_size,\n",
    "        color_mode=\"grayscale\",\n",
    "        class_mode='categorical')\n",
    "\n",
    "Y_pred = model.predict_generator(test_generator, test_generator.n//test_generator.batch_size+1)\n",
    "y_pred_cnn = np.argmax(Y_pred, axis=1)\n",
    "y_test_cnn = test_generator.classes"
   ]
  },
  {
   "cell_type": "markdown",
   "metadata": {
    "id": "b9KmY3aLQanz"
   },
   "source": [
    "# Custom Ensemble"
   ]
  },
  {
   "cell_type": "code",
   "execution_count": 28,
   "metadata": {
    "id": "3zhFE3YdVGvl"
   },
   "outputs": [],
   "source": [
    "y_pred_new = []\n",
    "len_rf = len(y_pred_rf)\n",
    "len_mb = len(y_pred_mb)\n",
    "len_cnn = len(y_pred_cnn)\n",
    "\n",
    "for i,j,k in zip(y_pred_rf,y_pred_mb,y_pred_cnn): \n",
    "  if (i==0 and j==0) or (j==0 and k==0) or (i==0 and k==0):\n",
    "    y_pred_new.append(0)\n",
    "  elif (i==1 and j==1) or (j==1 and k==1) or (i==1 and k==1):\n",
    "    y_pred_new.append(1)\n",
    "  elif (i==2 and j==2) or (j==2 and k==2) or (i==2 and k==2):\n",
    "    y_pred_new.append(2)\n",
    "  elif (i==3 and j==3) or (j==3 and k==3) or (i==3 and k==3):\n",
    "    y_pred_new.append(3)\n",
    "  elif (i==4 and j==4) or (j==4 and k==4) or (i==4 and k==4):\n",
    "    y_pred_new.append(4)\n",
    "  elif (i==5 and j==5) or (j==5 and k==5) or (i==5 and k==5):\n",
    "    y_pred_new.append(5)\n",
    "  elif (i==6 and j==6) or (j==6 and k==6) or (i==6 and k==6):\n",
    "    y_pred_new.append(6) \n",
    "  else:\n",
    "    if (len_rf > len_mb) and (len_rf > len_cnn):\n",
    "      y_pred_new.append(i)\n",
    "    elif (len_rf < len_mb) and (len_mb > len_cnn):\n",
    "      y_pred_new.append(j)\n",
    "    else:\n",
    "      y_pred_new.append(k)\n",
    "\n",
    "\n"
   ]
  },
  {
   "cell_type": "code",
   "execution_count": 29,
   "metadata": {
    "id": "28TQ0reJaI3R"
   },
   "outputs": [],
   "source": [
    "y_test_new = []\n",
    "len_rf = len(y_test_rf)\n",
    "len_mb = len(y_test_mb)\n",
    "len_cnn = len(y_test_cnn)\n",
    "\n",
    "for i,j,k in zip(y_test_rf,y_test_mb,y_test_cnn): \n",
    "  if (i==0 and j==0) or (j==0 and k==0) or (i==0 and k==0):\n",
    "    y_test_new.append(0)\n",
    "  elif (i==1 and j==1) or (j==1 and k==1) or (i==1 and k==1):\n",
    "    y_test_new.append(1)\n",
    "  elif (i==2 and j==2) or (j==2 and k==2) or (i==2 and k==2):\n",
    "    y_test_new.append(2)\n",
    "  elif (i==3 and j==3) or (j==3 and k==3) or (i==3 and k==3):\n",
    "    y_test_new.append(3)\n",
    "  elif (i==4 and j==4) or (j==4 and k==4) or (i==4 and k==4):\n",
    "    y_test_new.append(4)\n",
    "  elif (i==5 and j==5) or (j==5 and k==5) or (i==5 and k==5):\n",
    "    y_test_new.append(5)\n",
    "  elif (i==6 and j==6) or (j==6 and k==6) or (i==6 and k==6):\n",
    "    y_test_new.append(6) \n",
    "  else:\n",
    "    if (len_rf > len_mb) and (len_rf > len_cnn):\n",
    "      y_test_new.append(i)\n",
    "    elif (len_rf < len_mb) and (len_mb > len_cnn):\n",
    "      y_test_new.append(j)\n",
    "    else:\n",
    "      y_test_new.append(k)"
   ]
  },
  {
   "cell_type": "code",
   "execution_count": 30,
   "metadata": {
    "colab": {
     "base_uri": "https://localhost:8080/",
     "height": 700
    },
    "id": "CHLTRVAUbEPO",
    "outputId": "6f3680ae-4fcc-466f-96f6-15a338fb2b91"
   },
   "outputs": [
    {
     "name": "stdout",
     "output_type": "stream",
     "text": [
      "0.6326893746822573\n",
      "Classification Report\n",
      "              precision    recall  f1-score   support\n",
      "\n",
      "       Anger       0.06      0.19      0.09       101\n",
      "     Disgust       0.03      0.04      0.04        89\n",
      "        Fear       0.00      0.00      0.00        17\n",
      "       Happy       0.08      0.27      0.12       185\n",
      "     Neutral       0.91      0.70      0.79      3449\n",
      "         Sad       0.06      0.11      0.08        90\n",
      "    Surprise       0.00      0.00      0.00         3\n",
      "\n",
      "    accuracy                           0.63      3934\n",
      "   macro avg       0.16      0.19      0.16      3934\n",
      "weighted avg       0.80      0.63      0.70      3934\n",
      "\n"
     ]
    },
    {
     "data": {
      "image/png": "[encoded data removed]",
      "text/plain": [
       "<Figure size 720x504 with 2 Axes>"
      ]
     },
     "metadata": {
      "needs_background": "light",
      "tags": []
     },
     "output_type": "display_data"
    }
   ],
   "source": [
    "print(accuracy_score(y_test_new,y_pred_new))\n",
    "\n",
    "cf = confusion_matrix(y_test_new,y_pred_new)\n",
    "\n",
    "df_cm = pd.DataFrame(cf, index = ['Anger','Disgust','Fear','Happy','Neutral','Sad','Surprise'],\n",
    "                  columns = ['Anger','Disgust','Fear','Happy','Neutral','Sad','Surprise'])\n",
    "plt.figure(figsize = (10,7))\n",
    "sn.heatmap(df_cm, annot=True)\n",
    "\n",
    "print('Classification Report')\n",
    "target_names = [\"Anger\",\"Disgust\",\"Fear\",\"Happy\",\"Neutral\",\"Sad\",\"Surprise\"]\n",
    "print(classification_report(y_test_new, y_pred_new, target_names=target_names))"
   ]
  },
  {
   "cell_type": "code",
   "execution_count": null,
   "metadata": {
    "colab": {
     "base_uri": "https://localhost:8080/"
    },
    "id": "silEQBKHQZrR",
    "outputId": "e93cff9b-370e-430e-c125-63d5cb4cedd5"
   },
   "outputs": [
    {
     "name": "stdout",
     "output_type": "stream",
     "text": [
      "[nltk_data] Downloading package wordnet to /root/nltk_data...\n",
      "[nltk_data]   Package wordnet is already up-to-date!\n",
      "Predicted class is  Neutral\n"
     ]
    }
   ],
   "source": [
    "'''import nltk\n",
    "nltk.download('wordnet')\n",
    "from nltk.stem import WordNetLemmatizer\n",
    "import cv2\n",
    "import numpy as np\n",
    "from keras.applications.vgg16 import preprocess_input\n",
    "from keras.preprocessing import image\n",
    "\n",
    "def check_class(num):\n",
    "  if num==0:\n",
    "    return 'Anger'\n",
    "  elif num==1:\n",
    "    return 'Disgust'\n",
    "  elif num==2:\n",
    "    return 'Fear'\n",
    "  elif num==3:\n",
    "    return 'Happy'\n",
    "  elif num==4:\n",
    "    return 'Neutral'\n",
    "  elif num==5:\n",
    "    return 'Sad'\n",
    "  elif num==6:\n",
    "    return 'Surprise'\n",
    "\n",
    "#prediction for audio\n",
    "\n",
    "#audio = '/content/drive/MyDrive/Emotion_rec Data/Audio/Val_Aud/Anger/32f7de930_1_utterance_2.mp4.mp3'\n",
    "#mfcc_audio = mfcc(data=None,new_audio=audio)\n",
    "#prediction_rf=clf.predict_proba(mfcc_audio)\n",
    "\n",
    "#prediction for text\n",
    "\n",
    "text = \"any sales on in Christmas time\"\n",
    "wordnet_lemmatizer = WordNetLemmatizer()\n",
    "word_tokens = text.split(\" \")\n",
    "text_for_prediction = [wordnet_lemmatizer.lemmatize(test) for test in word_tokens]\n",
    "text_for_prediction = cv.transform(text_for_prediction).toarray()\n",
    "prediction_mb=mb.predict_proba(text_for_prediction)\n",
    "if len(prediction_mb)==6:\n",
    "  prediction_mb = [np.max(prediction_mb[0]),np.max(prediction_mb[1]),np.max(prediction_mb[2]),np.max(prediction_mb[3]),np.max(prediction_mb[4]),np.max(prediction_mb[5])]\n",
    "elif len(prediction_mb)==7:\n",
    "  prediction_mb = [np.max(prediction_mb[0]),np.max(prediction_mb[1]),np.max(prediction_mb[2]),np.max(prediction_mb[3]),np.max(prediction_mb[4]),np.max(prediction_mb[5]),np.max(prediction_mb[6])]\n",
    "\n",
    "\n",
    "\n",
    "#prediction for image\n",
    "\n",
    "\n",
    "img = cv2.imread(\"/content/drive/MyDrive/Emotion_rec Data/Images_face/Test_Croped_faces/Anger/cropped_face0af72f957_1_utterance_2.mp4frame1.jpg\")\n",
    "img = cv2.resize(img, (48, 48))\n",
    "img = np.reshape(img, [3, 48, 48, 1])\n",
    "prediction_classes = model.predict(img)\n",
    "\n",
    "class1_index=np.argmax(prediction_rf)\n",
    "class2_index=prediction_mb.index(max(prediction_mb))\n",
    "class3_index=np.argmax(prediction_classes)\n",
    "\n",
    "list_1=[np.max(prediction_rf),np.max(prediction_mb),np.max(prediction_classes)]\n",
    "\n",
    "if list_1.index(max(list_1)) == 0:\n",
    "  print(\"Predicted class is \",check_class(class1_index))\n",
    "elif list_1.index(max(list_1)) == 1:\n",
    "  print(\"Predicted class is \",check_class(class2_index))\n",
    "elif list_1.index(max(list_1)) == 2:\n",
    "  print(\"Predicted class is \",check_class(class3_index))'''"
   ]
  },
  {
   "cell_type": "markdown",
   "metadata": {
    "id": "wS0JiKRTgFGg"
   },
   "source": [
    "# Fail Models for Image Recognition\n",
    "\n",
    "# VGG19"
   ]
  },
  {
   "cell_type": "code",
   "execution_count": null,
   "metadata": {
    "id": "BASpFonbXGgG"
   },
   "outputs": [],
   "source": [
    "import warnings\n",
    "warnings.filterwarnings(\"ignore\", category=DeprecationWarning)\n",
    "import pandas as pd\n",
    "import numpy as np\n",
    "import os\n",
    "import keras\n",
    "import matplotlib.pyplot as plt\n",
    "from keras.preprocessing import image\n",
    "from keras.preprocessing.image import ImageDataGenerator\n",
    "from keras.models import Model\n",
    "from keras.applications.vgg16 import VGG16\n",
    "from keras.applications.vgg16 import preprocess_input as Vgg16processInput\n",
    "from keras.applications.resnet import ResNet50\n",
    "from keras.applications.resnet import preprocess_input as ResNet50_processInput\n",
    "from keras.applications.inception_v3 import InceptionV3\n",
    "from keras.applications.inception_v3 import preprocess_input as InceptionV3_processInput\n",
    "from keras.applications.xception import Xception\n",
    "from keras.applications.xception import preprocess_input as Xception_processInput\n",
    "\n",
    "from keras.applications.vgg19 import VGG19\n",
    "from keras.applications.vgg19 import preprocess_input as Vgg19processInput\n",
    "# Python script for confusion matrix creation. \n",
    "from sklearn.metrics import confusion_matrix \n",
    "from sklearn.metrics import accuracy_score \n",
    "from sklearn.metrics import classification_report \n",
    "from keras import optimizers\n",
    "from keras.layers import Dense,GlobalAveragePooling2D\n",
    "from keras.callbacks import ModelCheckpoint ,EarlyStopping,ReduceLROnPlateau\n",
    "from sklearn.metrics import auc\n",
    "from keras.models import Sequential\n",
    "from keras.layers import Dense, Activation\n",
    "from keras.utils import plot_model\n",
    "from keras.models import Model\n",
    "from keras.layers import Input\n",
    "from keras.layers import Dense\n",
    "import sklearn\n",
    "import seaborn as sn\n",
    "import pandas as pd"
   ]
  },
  {
   "cell_type": "code",
   "execution_count": null,
   "metadata": {
    "id": "ftDEh3-oVy1q"
   },
   "outputs": [],
   "source": [
    "#Some usefull Functions to use for training\n",
    "\n",
    "'''Dictionery to map model names'''\n",
    "MODELS = {\n",
    "\t\"vgg16\": VGG16,\n",
    "\t\"vgg19\": VGG19,\n",
    "\t\"inception\": InceptionV3,\n",
    "\t\"xception\": Xception, # TensorFlow ONLY\n",
    "\t\"resnet\": ResNet50\n",
    "}\n",
    "\n",
    "#'''Function to generate data generator from directory'''\n",
    "def get_generator(path_dir,processinput,img_size,batchsize,shuffle_status):\n",
    "\n",
    "  datagen=ImageDataGenerator(preprocessing_function=processinput) #included in our dependencies\n",
    "  generator1=datagen.flow_from_directory(path_dir,\n",
    "                                         target_size=img_size,\n",
    "                                         color_mode='rgb',\n",
    "                                         batch_size=batchsize,\n",
    "                                         class_mode='categorical',\n",
    "                                         shuffle=shuffle_status)\n",
    "  return generator1\n",
    "\n",
    "#'''This function will return a corresponding model with given model name'''\n",
    "def get_pretrained_model(modelname,freeze):\n",
    "  Network = MODELS[modelname]\n",
    "  model = Network(weights=\"imagenet\",include_top=False)\n",
    "  if freeze:\n",
    "    for layer in model.layers:\n",
    "      layer.trainable = False\n",
    "  return model\n",
    "\n",
    "#'''This function will add new dense layers to the input model'''\n",
    "def add_dense(input_model,numbers_list):\n",
    "  x = input_model.output\n",
    "  for i in range(len(numbers_list)-1):\n",
    "    x = Dense(numbers_list[i], activation='relu')(x)\n",
    "  output = Dense(numbers_list[-1], activation='softmax')(x)\n",
    "  model = Model(inputs=input_model.inputs, outputs=output)\n",
    "  return model\n",
    "\n",
    "\n",
    "#This function will add Global average pooling layer to the input model\n",
    "def add_GAP(input_model):\n",
    "  x = input_model.output\n",
    "  x=GlobalAveragePooling2D()(x)\n",
    "  # define new model\n",
    "  model = Model(inputs=input_model.inputs, outputs=x)\n",
    "  return model\n",
    "\n",
    "#This function will store callbacks\n",
    "def mycallbacks(checkpoint_name):\n",
    "\n",
    "  ModelCheckpointcheckpoint = ModelCheckpoint(checkpoint_name,monitor='val_loss',mode='min',save_best_only=True,verbose=1)\n",
    "  #EarlyStoppingearlystop = EarlyStopping(monitor = 'val_loss',min_delta = 0,patience = 60,verbose = 1,restore_best_weights = True)\n",
    "  reducelr=ReduceLROnPlateau(monitor='val_loss', factor=0.1, patience=2, verbose=0, mode='auto', min_delta=0.0001, cooldown=0, min_lr=0)\n",
    "  callbacks=[ModelCheckpointcheckpoint,reducelr]\n",
    "  return callbacks\n",
    "\n",
    "#this function will return \n",
    "def get_prediction(model,test_generator):\n",
    "  preds = model.predict_generator(test_generator)\n",
    "  return preds\n",
    "\n",
    "def start_training(model,train_generator,val_generator,myepochs,callbacks):\n",
    "  step_size_train=train_generator.n//train_generator.batch_size\n",
    "  val_size=val_generator.n//val_generator.batch_size\n",
    "  #Training\n",
    "  history = model.fit(train_generator,\n",
    "                                steps_per_epoch=step_size_train,\n",
    "                                epochs=myepochs,\n",
    "                                validation_data=val_generator,\n",
    "                                validation_steps=val_size,\n",
    "                                callbacks=callbacks)\n",
    "  return history\n",
    "\n",
    "def extract_features(model,generator):\n",
    "\n",
    "  #Extracting features of train,validation and test data\n",
    "  data_y = generator.classes\n",
    "  data_x = model.predict_generator(generator)\n",
    "  return data_x,data_y\n",
    "\n",
    "'''This function will return a neural network with dense layers'''\n",
    "def get_neural_model(input_size,neurons_list):\n",
    "\n",
    "  visible = Input(shape=(input_size,))\n",
    "  for i in range(len(neurons_list)-1):\n",
    "    x = Dense(10, activation='relu')(visible)\n",
    "  output = Dense(7, activation='softmax')(x)\n",
    "  model = Model(inputs=visible, outputs=output)\n",
    "  return model\n",
    "\n",
    "def test(model,generator):\n",
    "  loss,acc= model.evaluate_generator(generator)\n",
    "  return loss,acc\n",
    "\n",
    "# This function is plotting confusion matrix.\n",
    "def draw_confusion_matrix(cm,test_y):\n",
    "  df_cm = pd.DataFrame(cm, columns=np.unique(test_y), index = np.unique(test_y))\n",
    "  df_cm.index.name = 'Actual'\n",
    "  df_cm.columns.name = 'Predicted'\n",
    "  plt.figure(figsize = (6,3))\n",
    "  sn.set(font_scale=1.4) #for label size\n",
    "  sn.heatmap(df_cm, cmap=\"Blues\", annot=True, annot_kws={\"size\": 16})\n",
    "\n",
    "#this function will plot accuracy and loss curve\n",
    "def plot_curve(train,val,string1):\n",
    "  plt.plot(train,'k--')\n",
    "  plt.plot(val,'k--')\n",
    "  plt.title('model '+string1)\n",
    "  plt.ylabel(string1)\n",
    "  plt.xlabel('epoch')\n",
    "  plt.legend(['train', 'val'], loc='upper left')\n",
    "  plt.show()"
   ]
  },
  {
   "cell_type": "code",
   "execution_count": null,
   "metadata": {
    "colab": {
     "base_uri": "https://localhost:8080/"
    },
    "id": "ivWJx2ikWew1",
    "outputId": "632eaf00-4723-4d8d-e308-e9f85664a026"
   },
   "outputs": [
    {
     "name": "stdout",
     "output_type": "stream",
     "text": [
      "Building VGG19 model\n",
      "Downloading data from https://storage.googleapis.com/tensorflow/keras-applications/vgg19/vgg19_weights_tf_dim_ordering_tf_kernels_notop.h5\n",
      "80142336/80134624 [==============================] - 1s 0us/step\n",
      "Model: \"functional_3\"\n",
      "_________________________________________________________________\n",
      "Layer (type)                 Output Shape              Param #   \n",
      "=================================================================\n",
      "input_2 (InputLayer)         [(None, None, None, 3)]   0         \n",
      "_________________________________________________________________\n",
      "block1_conv1 (Conv2D)        (None, None, None, 64)    1792      \n",
      "_________________________________________________________________\n",
      "block1_conv2 (Conv2D)        (None, None, None, 64)    36928     \n",
      "_________________________________________________________________\n",
      "block1_pool (MaxPooling2D)   (None, None, None, 64)    0         \n",
      "_________________________________________________________________\n",
      "block2_conv1 (Conv2D)        (None, None, None, 128)   73856     \n",
      "_________________________________________________________________\n",
      "block2_conv2 (Conv2D)        (None, None, None, 128)   147584    \n",
      "_________________________________________________________________\n",
      "block2_pool (MaxPooling2D)   (None, None, None, 128)   0         \n",
      "_________________________________________________________________\n",
      "block3_conv1 (Conv2D)        (None, None, None, 256)   295168    \n",
      "_________________________________________________________________\n",
      "block3_conv2 (Conv2D)        (None, None, None, 256)   590080    \n",
      "_________________________________________________________________\n",
      "block3_conv3 (Conv2D)        (None, None, None, 256)   590080    \n",
      "_________________________________________________________________\n",
      "block3_conv4 (Conv2D)        (None, None, None, 256)   590080    \n",
      "_________________________________________________________________\n",
      "block3_pool (MaxPooling2D)   (None, None, None, 256)   0         \n",
      "_________________________________________________________________\n",
      "block4_conv1 (Conv2D)        (None, None, None, 512)   1180160   \n",
      "_________________________________________________________________\n",
      "block4_conv2 (Conv2D)        (None, None, None, 512)   2359808   \n",
      "_________________________________________________________________\n",
      "block4_conv3 (Conv2D)        (None, None, None, 512)   2359808   \n",
      "_________________________________________________________________\n",
      "block4_conv4 (Conv2D)        (None, None, None, 512)   2359808   \n",
      "_________________________________________________________________\n",
      "block4_pool (MaxPooling2D)   (None, None, None, 512)   0         \n",
      "_________________________________________________________________\n",
      "block5_conv1 (Conv2D)        (None, None, None, 512)   2359808   \n",
      "_________________________________________________________________\n",
      "block5_conv2 (Conv2D)        (None, None, None, 512)   2359808   \n",
      "_________________________________________________________________\n",
      "block5_conv3 (Conv2D)        (None, None, None, 512)   2359808   \n",
      "_________________________________________________________________\n",
      "block5_conv4 (Conv2D)        (None, None, None, 512)   2359808   \n",
      "_________________________________________________________________\n",
      "block5_pool (MaxPooling2D)   (None, None, None, 512)   0         \n",
      "_________________________________________________________________\n",
      "global_average_pooling2d (Gl (None, 512)               0         \n",
      "_________________________________________________________________\n",
      "dense (Dense)                (None, 256)               131328    \n",
      "_________________________________________________________________\n",
      "dense_1 (Dense)              (None, 7)                 1799      \n",
      "=================================================================\n",
      "Total params: 20,157,511\n",
      "Trainable params: 133,127\n",
      "Non-trainable params: 20,024,384\n",
      "_________________________________________________________________\n",
      "Declaring data generators..\n",
      "Found 2444 images belonging to 7 classes.\n",
      "Found 1151 images belonging to 7 classes.\n",
      "Found 1350 images belonging to 7 classes.\n",
      "Epoch 1/40\n",
      "76/76 [==============================] - ETA: 0s - loss: 1.7162 - accuracy: 0.5170 \n",
      "Epoch 00001: val_loss improved from inf to 3.03991, saving model to vgg19.h5\n",
      "76/76 [==============================] - 2056s 27s/step - loss: 1.7162 - accuracy: 0.5170 - val_loss: 3.0399 - val_accuracy: 0.2107\n",
      "Epoch 2/40\n",
      "76/76 [==============================] - ETA: 0s - loss: 0.7965 - accuracy: 0.7479\n",
      "Epoch 00002: val_loss improved from 3.03991 to 2.89315, saving model to vgg19.h5\n",
      "76/76 [==============================] - 15s 191ms/step - loss: 0.7965 - accuracy: 0.7479 - val_loss: 2.8932 - val_accuracy: 0.2562\n",
      "Epoch 3/40\n",
      "76/76 [==============================] - ETA: 0s - loss: 0.5606 - accuracy: 0.8213\n",
      "Epoch 00003: val_loss improved from 2.89315 to 2.88940, saving model to vgg19.h5\n",
      "76/76 [==============================] - 15s 192ms/step - loss: 0.5606 - accuracy: 0.8213 - val_loss: 2.8894 - val_accuracy: 0.2661\n",
      "Epoch 4/40\n",
      "76/76 [==============================] - ETA: 0s - loss: 0.4428 - accuracy: 0.8611\n",
      "Epoch 00004: val_loss did not improve from 2.88940\n",
      "76/76 [==============================] - 14s 189ms/step - loss: 0.4428 - accuracy: 0.8611 - val_loss: 3.0227 - val_accuracy: 0.3304\n",
      "Epoch 5/40\n",
      "76/76 [==============================] - ETA: 0s - loss: 0.3802 - accuracy: 0.8814\n",
      "Epoch 00005: val_loss did not improve from 2.88940\n",
      "76/76 [==============================] - 14s 186ms/step - loss: 0.3802 - accuracy: 0.8814 - val_loss: 3.1975 - val_accuracy: 0.2955\n",
      "Epoch 6/40\n",
      "76/76 [==============================] - ETA: 0s - loss: 0.2640 - accuracy: 0.9324\n",
      "Epoch 00006: val_loss did not improve from 2.88940\n",
      "76/76 [==============================] - 14s 186ms/step - loss: 0.2640 - accuracy: 0.9324 - val_loss: 3.0717 - val_accuracy: 0.3000\n",
      "Epoch 7/40\n",
      "76/76 [==============================] - ETA: 0s - loss: 0.2317 - accuracy: 0.9436\n",
      "Epoch 00007: val_loss did not improve from 2.88940\n",
      "76/76 [==============================] - 14s 187ms/step - loss: 0.2317 - accuracy: 0.9436 - val_loss: 3.1461 - val_accuracy: 0.2893\n",
      "Epoch 8/40\n",
      "76/76 [==============================] - ETA: 0s - loss: 0.2189 - accuracy: 0.9457\n",
      "Epoch 00008: val_loss did not improve from 2.88940\n",
      "76/76 [==============================] - 14s 187ms/step - loss: 0.2189 - accuracy: 0.9457 - val_loss: 3.0947 - val_accuracy: 0.3000\n",
      "Epoch 9/40\n",
      "76/76 [==============================] - ETA: 0s - loss: 0.2191 - accuracy: 0.9482\n",
      "Epoch 00009: val_loss did not improve from 2.88940\n",
      "76/76 [==============================] - 14s 185ms/step - loss: 0.2191 - accuracy: 0.9482 - val_loss: 3.1303 - val_accuracy: 0.2991\n",
      "Epoch 10/40\n",
      "76/76 [==============================] - ETA: 0s - loss: 0.2189 - accuracy: 0.9469\n",
      "Epoch 00010: val_loss did not improve from 2.88940\n",
      "76/76 [==============================] - 14s 187ms/step - loss: 0.2189 - accuracy: 0.9469 - val_loss: 3.0895 - val_accuracy: 0.3018\n",
      "Epoch 11/40\n",
      "76/76 [==============================] - ETA: 0s - loss: 0.2198 - accuracy: 0.9469\n",
      "Epoch 00011: val_loss did not improve from 2.88940\n",
      "76/76 [==============================] - 14s 187ms/step - loss: 0.2198 - accuracy: 0.9469 - val_loss: 3.1065 - val_accuracy: 0.3045\n",
      "Epoch 12/40\n",
      "76/76 [==============================] - ETA: 0s - loss: 0.2196 - accuracy: 0.9469\n",
      "Epoch 00012: val_loss did not improve from 2.88940\n",
      "76/76 [==============================] - 15s 202ms/step - loss: 0.2196 - accuracy: 0.9469 - val_loss: 3.0927 - val_accuracy: 0.3054\n",
      "Epoch 13/40\n",
      "76/76 [==============================] - ETA: 0s - loss: 0.2163 - accuracy: 0.9486\n",
      "Epoch 00013: val_loss did not improve from 2.88940\n",
      "76/76 [==============================] - 15s 192ms/step - loss: 0.2163 - accuracy: 0.9486 - val_loss: 3.1014 - val_accuracy: 0.3018\n",
      "Epoch 14/40\n",
      "76/76 [==============================] - ETA: 0s - loss: 0.2189 - accuracy: 0.9473\n",
      "Epoch 00014: val_loss did not improve from 2.88940\n",
      "76/76 [==============================] - 14s 184ms/step - loss: 0.2189 - accuracy: 0.9473 - val_loss: 3.0701 - val_accuracy: 0.3009\n",
      "Epoch 15/40\n",
      "76/76 [==============================] - ETA: 0s - loss: 0.2189 - accuracy: 0.9473\n",
      "Epoch 00015: val_loss did not improve from 2.88940\n",
      "76/76 [==============================] - 14s 186ms/step - loss: 0.2189 - accuracy: 0.9473 - val_loss: 3.1468 - val_accuracy: 0.2955\n",
      "Epoch 16/40\n",
      "76/76 [==============================] - ETA: 0s - loss: 0.2193 - accuracy: 0.9478\n",
      "Epoch 00016: val_loss did not improve from 2.88940\n",
      "76/76 [==============================] - 14s 186ms/step - loss: 0.2193 - accuracy: 0.9478 - val_loss: 3.1160 - val_accuracy: 0.2991\n",
      "Epoch 17/40\n",
      "76/76 [==============================] - ETA: 0s - loss: 0.2202 - accuracy: 0.9469\n",
      "Epoch 00017: val_loss did not improve from 2.88940\n",
      "76/76 [==============================] - 14s 186ms/step - loss: 0.2202 - accuracy: 0.9469 - val_loss: 3.0769 - val_accuracy: 0.2991\n",
      "Epoch 18/40\n",
      "76/76 [==============================] - ETA: 0s - loss: 0.2174 - accuracy: 0.9478\n",
      "Epoch 00018: val_loss did not improve from 2.88940\n",
      "76/76 [==============================] - 14s 186ms/step - loss: 0.2174 - accuracy: 0.9478 - val_loss: 3.1131 - val_accuracy: 0.2991\n",
      "Epoch 19/40\n",
      "76/76 [==============================] - ETA: 0s - loss: 0.2162 - accuracy: 0.9486\n",
      "Epoch 00019: val_loss did not improve from 2.88940\n",
      "76/76 [==============================] - 14s 185ms/step - loss: 0.2162 - accuracy: 0.9486 - val_loss: 3.1177 - val_accuracy: 0.3000\n",
      "Epoch 20/40\n",
      "76/76 [==============================] - ETA: 0s - loss: 0.2200 - accuracy: 0.9469\n",
      "Epoch 00020: val_loss did not improve from 2.88940\n",
      "76/76 [==============================] - 14s 184ms/step - loss: 0.2200 - accuracy: 0.9469 - val_loss: 3.1149 - val_accuracy: 0.3000\n",
      "Epoch 21/40\n",
      "76/76 [==============================] - ETA: 0s - loss: 0.2186 - accuracy: 0.9469\n",
      "Epoch 00021: val_loss did not improve from 2.88940\n",
      "76/76 [==============================] - 14s 185ms/step - loss: 0.2186 - accuracy: 0.9469 - val_loss: 3.1154 - val_accuracy: 0.2991\n",
      "Epoch 22/40\n",
      "76/76 [==============================] - ETA: 0s - loss: 0.2190 - accuracy: 0.9473\n",
      "Epoch 00022: val_loss did not improve from 2.88940\n",
      "76/76 [==============================] - 14s 186ms/step - loss: 0.2190 - accuracy: 0.9473 - val_loss: 3.0951 - val_accuracy: 0.3018\n",
      "Epoch 23/40\n",
      "76/76 [==============================] - ETA: 0s - loss: 0.2175 - accuracy: 0.9482\n",
      "Epoch 00023: val_loss did not improve from 2.88940\n",
      "76/76 [==============================] - 14s 185ms/step - loss: 0.2175 - accuracy: 0.9482 - val_loss: 3.1320 - val_accuracy: 0.3018\n",
      "Epoch 24/40\n",
      "76/76 [==============================] - ETA: 0s - loss: 0.2198 - accuracy: 0.9469\n",
      "Epoch 00024: val_loss did not improve from 2.88940\n",
      "76/76 [==============================] - 14s 184ms/step - loss: 0.2198 - accuracy: 0.9469 - val_loss: 3.0895 - val_accuracy: 0.3045\n",
      "Epoch 25/40\n",
      "76/76 [==============================] - ETA: 0s - loss: 0.2183 - accuracy: 0.9473\n",
      "Epoch 00025: val_loss did not improve from 2.88940\n",
      "76/76 [==============================] - 14s 186ms/step - loss: 0.2183 - accuracy: 0.9473 - val_loss: 3.0877 - val_accuracy: 0.3027\n",
      "Epoch 26/40\n",
      "76/76 [==============================] - ETA: 0s - loss: 0.2152 - accuracy: 0.9490\n",
      "Epoch 00026: val_loss did not improve from 2.88940\n",
      "76/76 [==============================] - 14s 185ms/step - loss: 0.2152 - accuracy: 0.9490 - val_loss: 3.1270 - val_accuracy: 0.2991\n",
      "Epoch 27/40\n",
      "76/76 [==============================] - ETA: 0s - loss: 0.2172 - accuracy: 0.9478\n",
      "Epoch 00027: val_loss did not improve from 2.88940\n",
      "76/76 [==============================] - 14s 185ms/step - loss: 0.2172 - accuracy: 0.9478 - val_loss: 3.1269 - val_accuracy: 0.2964\n",
      "Epoch 28/40\n",
      "76/76 [==============================] - ETA: 0s - loss: 0.2182 - accuracy: 0.9478\n",
      "Epoch 00028: val_loss did not improve from 2.88940\n",
      "76/76 [==============================] - 14s 185ms/step - loss: 0.2182 - accuracy: 0.9478 - val_loss: 3.1053 - val_accuracy: 0.3027\n",
      "Epoch 29/40\n",
      "76/76 [==============================] - ETA: 0s - loss: 0.2179 - accuracy: 0.9482\n",
      "Epoch 00029: val_loss did not improve from 2.88940\n",
      "76/76 [==============================] - 14s 186ms/step - loss: 0.2179 - accuracy: 0.9482 - val_loss: 3.1093 - val_accuracy: 0.2991\n",
      "Epoch 30/40\n",
      "76/76 [==============================] - ETA: 0s - loss: 0.2185 - accuracy: 0.9473\n",
      "Epoch 00030: val_loss did not improve from 2.88940\n",
      "76/76 [==============================] - 14s 186ms/step - loss: 0.2185 - accuracy: 0.9473 - val_loss: 3.1267 - val_accuracy: 0.3009\n",
      "Epoch 31/40\n",
      "76/76 [==============================] - ETA: 0s - loss: 0.2169 - accuracy: 0.9482\n",
      "Epoch 00031: val_loss did not improve from 2.88940\n",
      "76/76 [==============================] - 14s 185ms/step - loss: 0.2169 - accuracy: 0.9482 - val_loss: 3.1011 - val_accuracy: 0.3018\n",
      "Epoch 32/40\n",
      "76/76 [==============================] - ETA: 0s - loss: 0.2180 - accuracy: 0.9473\n",
      "Epoch 00032: val_loss did not improve from 2.88940\n",
      "76/76 [==============================] - 14s 188ms/step - loss: 0.2180 - accuracy: 0.9473 - val_loss: 3.0456 - val_accuracy: 0.3027\n",
      "Epoch 33/40\n",
      "76/76 [==============================] - ETA: 0s - loss: 0.2184 - accuracy: 0.9473\n",
      "Epoch 00033: val_loss did not improve from 2.88940\n",
      "76/76 [==============================] - 15s 192ms/step - loss: 0.2184 - accuracy: 0.9473 - val_loss: 3.1062 - val_accuracy: 0.3027\n",
      "Epoch 34/40\n",
      "76/76 [==============================] - ETA: 0s - loss: 0.2176 - accuracy: 0.9473\n",
      "Epoch 00034: val_loss did not improve from 2.88940\n",
      "76/76 [==============================] - 16s 205ms/step - loss: 0.2176 - accuracy: 0.9473 - val_loss: 3.1244 - val_accuracy: 0.3009\n",
      "Epoch 35/40\n",
      "76/76 [==============================] - ETA: 0s - loss: 0.2180 - accuracy: 0.9482\n",
      "Epoch 00035: val_loss did not improve from 2.88940\n",
      "76/76 [==============================] - 14s 185ms/step - loss: 0.2180 - accuracy: 0.9482 - val_loss: 3.1276 - val_accuracy: 0.2991\n",
      "Epoch 36/40\n",
      "76/76 [==============================] - ETA: 0s - loss: 0.2169 - accuracy: 0.9486\n",
      "Epoch 00036: val_loss did not improve from 2.88940\n",
      "76/76 [==============================] - 14s 186ms/step - loss: 0.2169 - accuracy: 0.9486 - val_loss: 3.0860 - val_accuracy: 0.3009\n",
      "Epoch 37/40\n",
      "76/76 [==============================] - ETA: 0s - loss: 0.2195 - accuracy: 0.9469\n",
      "Epoch 00037: val_loss did not improve from 2.88940\n",
      "76/76 [==============================] - 14s 185ms/step - loss: 0.2195 - accuracy: 0.9469 - val_loss: 3.0877 - val_accuracy: 0.3036\n",
      "Epoch 38/40\n",
      "76/76 [==============================] - ETA: 0s - loss: 0.2184 - accuracy: 0.9478\n",
      "Epoch 00038: val_loss did not improve from 2.88940\n",
      "76/76 [==============================] - 14s 186ms/step - loss: 0.2184 - accuracy: 0.9478 - val_loss: 3.1018 - val_accuracy: 0.3045\n",
      "Epoch 39/40\n",
      "76/76 [==============================] - ETA: 0s - loss: 0.2191 - accuracy: 0.9478\n",
      "Epoch 00039: val_loss did not improve from 2.88940\n",
      "76/76 [==============================] - 14s 186ms/step - loss: 0.2191 - accuracy: 0.9478 - val_loss: 3.0963 - val_accuracy: 0.3036\n",
      "Epoch 40/40\n",
      "76/76 [==============================] - ETA: 0s - loss: 0.2184 - accuracy: 0.9478\n",
      "Epoch 00040: val_loss did not improve from 2.88940\n",
      "76/76 [==============================] - 14s 185ms/step - loss: 0.2184 - accuracy: 0.9478 - val_loss: 3.0989 - val_accuracy: 0.3009\n"
     ]
    }
   ],
   "source": [
    "#Some important variable initializers\n",
    "batchsize = 32\n",
    "img_size = (150,150)\n",
    "myepochs = 40\n",
    "\n",
    "numbers_list = [256,7]\n",
    "\n",
    "#Building Xception model\n",
    "print(\"Building VGG19 model\")\n",
    "model1 = get_pretrained_model('vgg19',freeze = True)\n",
    "model1 = add_GAP(model1)\n",
    "model1 = add_dense(model1,numbers_list)\n",
    "\n",
    "#Declaring neural network\n",
    "checkpoint_name='vgg19.h5'\n",
    "callback1 = mycallbacks(checkpoint_name)\n",
    "#sgd = optimizers.SGD(lr=0.001, decay=1e-6, momentum=0.9, nesterov=True)\n",
    "model1.compile(optimizer='adam',loss='categorical_crossentropy',metrics=['accuracy'])\n",
    "model1.summary()\n",
    "\n",
    "#declaring generators\n",
    "print(\"Declaring data generators..\")\n",
    "processinput = Vgg19processInput\n",
    "train_gen = get_generator('/content/drive/MyDrive/Emotion_rec Data/Balanced Image data/Train_Croped_faces (1)',processinput,img_size,batchsize,True)\n",
    "val_gen = get_generator('/content/drive/MyDrive/Emotion_rec Data/New Face data/val_Croped_faces',processinput,img_size,batchsize,True)\n",
    "test_gen = get_generator('/content/drive/MyDrive/Emotion_rec Data/Balanced Image data/Test_Croped_faces',processinput,img_size,batchsize,False)\n",
    "\n",
    "#training the model\n",
    "hist = start_training(model1,train_gen,val_gen,myepochs,callback1)"
   ]
  },
  {
   "cell_type": "code",
   "execution_count": null,
   "metadata": {
    "colab": {
     "base_uri": "https://localhost:8080/",
     "height": 608
    },
    "id": "n1pwbbEnXCID",
    "outputId": "664c1249-5f33-47c9-8e1d-d2225c1c4667"
   },
   "outputs": [
    {
     "name": "stdout",
     "output_type": "stream",
     "text": [
      "WARNING:tensorflow:From <ipython-input-5-99d989e19798>:2: Model.evaluate_generator (from tensorflow.python.keras.engine.training) is deprecated and will be removed in a future version.\n",
      "Instructions for updating:\n",
      "Please use Model.evaluate, which supports generators.\n",
      "Testing Results => Acc:  18.0 Loss:  4.31\n",
      "WARNING:tensorflow:From <ipython-input-5-99d989e19798>:6: Model.predict_generator (from tensorflow.python.keras.engine.training) is deprecated and will be removed in a future version.\n",
      "Instructions for updating:\n",
      "Please use Model.predict, which supports generators.\n",
      "Report : \n",
      "              precision    recall  f1-score   support\n",
      "\n",
      "           0       0.07      0.16      0.10       119\n",
      "           1       0.22      0.26      0.24       273\n",
      "           2       0.40      0.08      0.14       277\n",
      "           3       0.35      0.19      0.24       155\n",
      "           4       0.22      0.37      0.27       174\n",
      "           5       0.12      0.24      0.16       148\n",
      "           6       0.00      0.00      0.00       204\n",
      "\n",
      "    accuracy                           0.18      1350\n",
      "   macro avg       0.20      0.19      0.16      1350\n",
      "weighted avg       0.21      0.18      0.17      1350\n",
      "\n",
      "Confusion Matrix\n"
     ]
    },
    {
     "ename": "NameError",
     "evalue": "ignored",
     "output_type": "error",
     "traceback": [
      "\u001b[0;31m---------------------------------------------------------------------------\u001b[0m",
      "\u001b[0;31mNameError\u001b[0m                                 Traceback (most recent call last)",
      "\u001b[0;32m<ipython-input-5-99d989e19798>\u001b[0m in \u001b[0;36m<module>\u001b[0;34m()\u001b[0m\n\u001b[1;32m     12\u001b[0m \u001b[0;34m\u001b[0m\u001b[0m\n\u001b[1;32m     13\u001b[0m \u001b[0mprint\u001b[0m\u001b[0;34m(\u001b[0m\u001b[0;34m'Confusion Matrix'\u001b[0m\u001b[0;34m)\u001b[0m\u001b[0;34m\u001b[0m\u001b[0;34m\u001b[0m\u001b[0m\n\u001b[0;32m---> 14\u001b[0;31m \u001b[0mprint\u001b[0m\u001b[0;34m(\u001b[0m\u001b[0mconfusion_matrix\u001b[0m\u001b[0;34m(\u001b[0m\u001b[0mtest_generator\u001b[0m\u001b[0;34m.\u001b[0m\u001b[0mclasses\u001b[0m\u001b[0;34m,\u001b[0m \u001b[0my_pred\u001b[0m\u001b[0;34m)\u001b[0m\u001b[0;34m)\u001b[0m\u001b[0;34m\u001b[0m\u001b[0;34m\u001b[0m\u001b[0m\n\u001b[0m",
      "\u001b[0;31mNameError\u001b[0m: name 'test_generator' is not defined"
     ]
    }
   ],
   "source": [
    "step_size_test=test_gen.n//test_gen.batch_size\n",
    "loss,acc = model1.evaluate_generator(test_gen,step_size_test,verbose=0)\n",
    "print(\"Testing Results => Acc: \",round(acc,2)*100,\"Loss: \",round(loss,2))\n",
    "\n",
    "test_y = test_gen.classes\n",
    "y_pred = model1.predict_generator(test_gen)\n",
    "predict_class=np.argmax(y_pred,axis=1)\n",
    "\n",
    "# Report of Precision, Recall, F1_score\n",
    "print ('Report : ')\n",
    "print (classification_report(test_y, predict_class) )\n",
    "\n",
    "print('Confusion Matrix')\n",
    "print(confusion_matrix(test_generator.classes, y_pred))"
   ]
  }
 ],
 "metadata": {
  "colab": {
   "collapsed_sections": [],
   "name": "Emotion Recognition.ipynb",
   "provenance": [],
   "toc_visible": true
  },
  "kernelspec": {
   "display_name": "Python 3",
   "language": "python",
   "name": "python3"
  },
  "language_info": {
   "codemirror_mode": {
    "name": "ipython",
    "version": 3
   },
   "file_extension": ".py",
   "mimetype": "text/x-python",
   "name": "python",
   "nbconvert_exporter": "python",
   "pygments_lexer": "ipython3",
   "version": "3.8.5"
  }
 },
 "nbformat": 4,
 "nbformat_minor": 1
}
